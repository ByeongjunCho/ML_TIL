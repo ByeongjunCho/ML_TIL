{
 "cells": [
  {
   "cell_type": "markdown",
   "metadata": {},
   "source": [
    "# 학습결과 Image를 GIF로 만들기"
   ]
  },
  {
   "cell_type": "code",
   "execution_count": 1,
   "metadata": {},
   "outputs": [],
   "source": [
    "import glob\n",
    "import imageio\n",
    "import os\n",
    "import PIL\n",
    "# result결과가 있는 폴더 이름 설정\n",
    "anim_file = 'waveresult.gif'\n",
    "\n",
    "with imageio.get_writer(anim_file, mode='I') as writer:\n",
    "    resize_path = anim_file[:-4]+'_resize'\n",
    "    filename = os.listdir('./'+anim_file[:-4])\n",
    "    if not os.path.exists(anim_file[:-4]+'_resize'):\n",
    "        os.mkdir(resize_path)\n",
    "    \n",
    "    # 이미지 크기를 줄여서 새로운 폴더에 저장\n",
    "    for name in filename:\n",
    "        nums = name[:-4]\n",
    "#         os.rename('./'+anim_file[:-4]+'/'+name, './'+anim_file[:-4]+'/'+\"{:06d}\".format(int(nums))+'.jpg')\n",
    "        image = PIL.Image.open('./'+anim_file[:-4]+'/'+name)\n",
    "        basewidth = 640\n",
    "        if image.size[0] > basewidth:  # 베이스 사이즈 크기\n",
    "            wpercent = (basewidth/float(image.size[0]))\n",
    "            hsize = int((float(image.size[1])*float(wpercent)))\n",
    "            image = image.resize((basewidth,hsize), PIL.Image.ANTIALIAS)\n",
    "        image.save('./'+resize_path+'/'+\"{:06d}\".format(int(nums))+'.jpg') \n",
    "    filenames = glob.glob('./'+resize_path+'/*.jpg')\n",
    "    \n",
    "    filenames = sorted(filenames)\n",
    "    last = -1\n",
    "    for i,filename in enumerate(filenames):\n",
    "        frame = 4*(i**0.5)\n",
    "        \n",
    "        if round(frame) > round(last):\n",
    "            last = frame\n",
    "        else:\n",
    "            continue\n",
    "        image = imageio.imread(filename)\n",
    "        writer.append_data(image)\n",
    "    image = imageio.imread(filename)\n",
    "    writer.append_data(image)\n",
    "\n",
    "import IPython\n",
    "from IPython import display\n",
    "if IPython.version_info > (6,2,0,''):\n",
    "    display.Image(filename=anim_file)"
   ]
  }
 ],
 "metadata": {
  "kernelspec": {
   "display_name": "Python 3",
   "language": "python",
   "name": "python3"
  },
  "language_info": {
   "codemirror_mode": {
    "name": "ipython",
    "version": 3
   },
   "file_extension": ".py",
   "mimetype": "text/x-python",
   "name": "python",
   "nbconvert_exporter": "python",
   "pygments_lexer": "ipython3",
   "version": "3.7.4"
  }
 },
 "nbformat": 4,
 "nbformat_minor": 4
}
