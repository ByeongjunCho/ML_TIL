{
 "cells": [
  {
   "cell_type": "code",
   "execution_count": 1,
   "metadata": {},
   "outputs": [],
   "source": [
    "import tensorflow as tf\n",
    "import glob\n",
    "import imageio  # GIF를 만들기 위한 모듈\n",
    "import matplotlib.pyplot as plt\n",
    "import numpy as np\n",
    "import os\n",
    "import PIL\n",
    "from tensorflow.keras import layers\n",
    "import time\n",
    "\n",
    "from IPython import display"
   ]
  },
  {
   "cell_type": "code",
   "execution_count": 2,
   "metadata": {},
   "outputs": [],
   "source": [
    "(train_images, _), (test_images, _) = tf.keras.datasets.mnist.load_data()"
   ]
  },
  {
   "cell_type": "code",
   "execution_count": 3,
   "metadata": {},
   "outputs": [
    {
     "data": {
      "text/plain": [
       "(10000, 28, 28)"
      ]
     },
     "execution_count": 3,
     "metadata": {},
     "output_type": "execute_result"
    }
   ],
   "source": [
    "test_images.shape"
   ]
  },
  {
   "cell_type": "markdown",
   "metadata": {},
   "source": [
    "### dataset 생성"
   ]
  },
  {
   "cell_type": "code",
   "execution_count": 4,
   "metadata": {},
   "outputs": [],
   "source": [
    "train_images = train_images.reshape(train_images.shape[0], 28, 28, 1).astype('float32')\n",
    "test_images = test_images.reshape(test_images.shape[0], 28, 28, 1).astype('float32')"
   ]
  },
  {
   "cell_type": "code",
   "execution_count": 5,
   "metadata": {},
   "outputs": [],
   "source": [
    "train_images = (train_images - 127.5) / 127.5\n",
    "test_images = (test_images - 127.5) / 127.5"
   ]
  },
  {
   "cell_type": "markdown",
   "metadata": {},
   "source": [
    "데이터 배치를 만들고 섞음"
   ]
  },
  {
   "cell_type": "code",
   "execution_count": 6,
   "metadata": {},
   "outputs": [],
   "source": [
    "BUFFER_SIZE = 60000\n",
    "BATCH_SIZE = 256"
   ]
  },
  {
   "cell_type": "code",
   "execution_count": 7,
   "metadata": {},
   "outputs": [],
   "source": [
    "train_dataset = tf.data.Dataset.from_tensor_slices(train_images).shuffle(BUFFER_SIZE).batch(BATCH_SIZE)\n",
    "test_dataset = tf.data.Dataset.from_tensor_slices(test_images).shuffle(BUFFER_SIZE).batch(BATCH_SIZE)"
   ]
  },
  {
   "cell_type": "markdown",
   "metadata": {},
   "source": [
    "# BEGAN 모델 만들기"
   ]
  },
  {
   "cell_type": "code",
   "execution_count": 8,
   "metadata": {},
   "outputs": [],
   "source": [
    "def discriminator_model():\n",
    "    model = tf.keras.Sequential([\n",
    "        tf.keras.layers.Conv2D(filters=64, kernel_size=4, strides=(2,2), padding='same', input_shape=(28, 28, 1)),\n",
    "        tf.keras.layers.LeakyReLU(),\n",
    "        tf.keras.layers.Flatten(),\n",
    "        tf.keras.layers.Dense(32),\n",
    "        tf.keras.layers.BatchNormalization(),\n",
    "        tf.keras.layers.LeakyReLU(),\n",
    "        tf.keras.layers.Dense(64*14*14),\n",
    "        tf.keras.layers.BatchNormalization(),\n",
    "        tf.keras.layers.LeakyReLU(),\n",
    "        tf.keras.layers.Reshape((14, 14, 64)),\n",
    "        tf.keras.layers.Conv2DTranspose(1, 4, (2, 2), padding='same'),\n",
    "        tf.keras.layers.Activation(tf.nn.tanh)\n",
    "    ])\n",
    "    return model"
   ]
  },
  {
   "cell_type": "code",
   "execution_count": 9,
   "metadata": {},
   "outputs": [
    {
     "name": "stdout",
     "output_type": "stream",
     "text": [
      "Model: \"sequential\"\n",
      "_________________________________________________________________\n",
      "Layer (type)                 Output Shape              Param #   \n",
      "=================================================================\n",
      "conv2d (Conv2D)              (None, 14, 14, 64)        1088      \n",
      "_________________________________________________________________\n",
      "leaky_re_lu (LeakyReLU)      (None, 14, 14, 64)        0         \n",
      "_________________________________________________________________\n",
      "flatten (Flatten)            (None, 12544)             0         \n",
      "_________________________________________________________________\n",
      "dense (Dense)                (None, 32)                401440    \n",
      "_________________________________________________________________\n",
      "batch_normalization (BatchNo (None, 32)                128       \n",
      "_________________________________________________________________\n",
      "leaky_re_lu_1 (LeakyReLU)    (None, 32)                0         \n",
      "_________________________________________________________________\n",
      "dense_1 (Dense)              (None, 12544)             413952    \n",
      "_________________________________________________________________\n",
      "batch_normalization_1 (Batch (None, 12544)             50176     \n",
      "_________________________________________________________________\n",
      "leaky_re_lu_2 (LeakyReLU)    (None, 12544)             0         \n",
      "_________________________________________________________________\n",
      "reshape (Reshape)            (None, 14, 14, 64)        0         \n",
      "_________________________________________________________________\n",
      "conv2d_transpose (Conv2DTran (None, 28, 28, 1)         1025      \n",
      "_________________________________________________________________\n",
      "activation (Activation)      (None, 28, 28, 1)         0         \n",
      "=================================================================\n",
      "Total params: 867,809\n",
      "Trainable params: 842,657\n",
      "Non-trainable params: 25,152\n",
      "_________________________________________________________________\n"
     ]
    }
   ],
   "source": [
    "discriminator = discriminator_model()\n",
    "discriminator.summary()"
   ]
  },
  {
   "cell_type": "code",
   "execution_count": 10,
   "metadata": {},
   "outputs": [],
   "source": [
    "def generator_model():\n",
    "    model = tf.keras.Sequential([\n",
    "        tf.keras.layers.Input(shape=[64]),\n",
    "        tf.keras.layers.Dense(1024),\n",
    "        tf.keras.layers.BatchNormalization(),\n",
    "        tf.keras.layers.LeakyReLU(),\n",
    "\n",
    "        tf.keras.layers.Dense(128*7*7),\n",
    "        tf.keras.layers.BatchNormalization(),\n",
    "        tf.keras.layers.LeakyReLU(),\n",
    "\n",
    "        tf.keras.layers.Reshape((7, 7, 128)),\n",
    "\n",
    "        tf.keras.layers.Conv2DTranspose(filters=64, kernel_size=4, strides=(2,2), padding='same'),\n",
    "        tf.keras.layers.BatchNormalization(),\n",
    "        tf.keras.layers.LeakyReLU(),\n",
    "\n",
    "        tf.keras.layers.Conv2DTranspose(filters=1, kernel_size=4, strides=(2,2), padding='same'),\n",
    "        tf.keras.layers.Activation(tf.nn.tanh)\n",
    "    ])\n",
    "    return model"
   ]
  },
  {
   "cell_type": "code",
   "execution_count": 11,
   "metadata": {},
   "outputs": [
    {
     "name": "stdout",
     "output_type": "stream",
     "text": [
      "Model: \"sequential_1\"\n",
      "_________________________________________________________________\n",
      "Layer (type)                 Output Shape              Param #   \n",
      "=================================================================\n",
      "dense_2 (Dense)              (None, 1024)              66560     \n",
      "_________________________________________________________________\n",
      "batch_normalization_2 (Batch (None, 1024)              4096      \n",
      "_________________________________________________________________\n",
      "leaky_re_lu_3 (LeakyReLU)    (None, 1024)              0         \n",
      "_________________________________________________________________\n",
      "dense_3 (Dense)              (None, 6272)              6428800   \n",
      "_________________________________________________________________\n",
      "batch_normalization_3 (Batch (None, 6272)              25088     \n",
      "_________________________________________________________________\n",
      "leaky_re_lu_4 (LeakyReLU)    (None, 6272)              0         \n",
      "_________________________________________________________________\n",
      "reshape_1 (Reshape)          (None, 7, 7, 128)         0         \n",
      "_________________________________________________________________\n",
      "conv2d_transpose_1 (Conv2DTr (None, 14, 14, 64)        131136    \n",
      "_________________________________________________________________\n",
      "batch_normalization_4 (Batch (None, 14, 14, 64)        256       \n",
      "_________________________________________________________________\n",
      "leaky_re_lu_5 (LeakyReLU)    (None, 14, 14, 64)        0         \n",
      "_________________________________________________________________\n",
      "conv2d_transpose_2 (Conv2DTr (None, 28, 28, 1)         1025      \n",
      "_________________________________________________________________\n",
      "activation_1 (Activation)    (None, 28, 28, 1)         0         \n",
      "=================================================================\n",
      "Total params: 6,656,961\n",
      "Trainable params: 6,642,241\n",
      "Non-trainable params: 14,720\n",
      "_________________________________________________________________\n"
     ]
    }
   ],
   "source": [
    "generator = generator_model()\n",
    "generator.summary()"
   ]
  },
  {
   "cell_type": "code",
   "execution_count": 12,
   "metadata": {},
   "outputs": [
    {
     "name": "stdout",
     "output_type": "stream",
     "text": [
      "(1, 28, 28, 1)\n"
     ]
    }
   ],
   "source": [
    "# 출력 데이터 확인\n",
    "noise = tf.random.normal([1, 64])\n",
    "generator_image = generator(noise, training=False)\n",
    "\n",
    "print(generator_image.shape)"
   ]
  },
  {
   "cell_type": "code",
   "execution_count": 13,
   "metadata": {},
   "outputs": [
    {
     "data": {
      "text/plain": [
       "<matplotlib.image.AxesImage at 0x1aeef0795c8>"
      ]
     },
     "execution_count": 13,
     "metadata": {},
     "output_type": "execute_result"
    },
    {
     "data": {
      "image/png": "[encoded data removed]",
      "text/plain": [
       "<Figure size 432x288 with 1 Axes>"
      ]
     },
     "metadata": {
      "needs_background": "light"
     },
     "output_type": "display_data"
    }
   ],
   "source": [
    "plt.imshow(generator_image[0, :, :, 0], cmap='gray')"
   ]
  },
  {
   "cell_type": "markdown",
   "metadata": {},
   "source": [
    "### loss 와 optimizer 정의"
   ]
  },
  {
   "cell_type": "code",
   "execution_count": 14,
   "metadata": {},
   "outputs": [],
   "source": [
    "def discriminator_loss(dis_input, dis_output):\n",
    "    return tf.reduce_mean(tf.abs(dis_input - dis_output))"
   ]
  },
  {
   "cell_type": "code",
   "execution_count": 15,
   "metadata": {},
   "outputs": [],
   "source": [
    "generator_optimizer = tf.keras.optimizers.Adam(0.002)\n",
    "discriminator_optimizer = tf.keras.optimizers.Adam(0.002)"
   ]
  },
  {
   "cell_type": "markdown",
   "metadata": {},
   "source": [
    "### 훈련 설정"
   ]
  },
  {
   "cell_type": "code",
   "execution_count": 16,
   "metadata": {},
   "outputs": [],
   "source": [
    "noise_dim = 64\n",
    "num_examples_to_generate = 16\n",
    "EPOCHS = 50\n",
    "k = 0  # training step마다 업데이트 됨\n",
    "gamma = 0.7 # 모델의 균형\n",
    "lambda_ = 0.001\n",
    "seed = tf.random.normal([num_examples_to_generate, noise_dim])\n",
    "k = tf.Variable(0, trainable=False, dtype=tf.float32)"
   ]
  },
  {
   "cell_type": "code",
   "execution_count": 26,
   "metadata": {},
   "outputs": [],
   "source": [
    "def train_step(images):\n",
    "    noise = tf.random.normal([BATCH_SIZE, noise_dim])\n",
    "    \n",
    "    \n",
    "    with tf.GradientTape(persistent=True) as tape:\n",
    "        generated_image = generator(noise, training=True)\n",
    "        \n",
    "        real_output = discriminator(images, training=True)\n",
    "        fake_output = discriminator(generated_image, training=True)\n",
    "        \n",
    "        d_real_error = discriminator_loss(images, real_output)\n",
    "        d_fake_error = discriminator_loss(generated_image, fake_output)\n",
    "        \n",
    "        disc_loss = d_real_error - k*d_fake_error\n",
    "        gen_loss = d_fake_error\n",
    "    \n",
    "    gradients_of_discriminator = tape.gradient(disc_loss, discriminator.trainable_variables)\n",
    "    gradients_of_dgenerator = tape.gradient(disc_loss, generator.trainable_variables)\n",
    "    gradients_of_generator = tape.gradient(gen_loss, generator.trainable_variables)\n",
    "    \n",
    "    discriminator_optimizer.apply_gradients(zip(gradients_of_discriminator, discriminator.trainable_variables))\n",
    "    generator_optimizer.apply_gradients(zip(gradients_of_dgenerator, generator.trainable_variables))\n",
    "    generator_optimizer.apply_gradients(zip(gradients_of_generator, generator.trainable_variables))\n",
    "    \n",
    "    k.assign(tf.clip_by_value(k + lambda_*(gamma*d_real_error - d_fake_error), 0, 1))\n",
    "    return d_real_error + tf.abs(gamma*d_real_error - gen_loss)\n",
    "\n",
    "\n",
    "#     with tf.GradientTape() as disc_loosd_tape, tf.GradientTape() as gen_loosg_tape:\n",
    "#         generated_image = generator(zD, training=True)\n",
    "        \n",
    "#         fake_output = discriminator(generated_image, training=True)\n",
    "#         real_output = discriminator(images, training=True)\n",
    "        \n",
    "#         d_real_error = discriminator_loss(images, real_output)\n",
    "#         d_fake_error = discriminator_loss(generated_image, fake_output)\n",
    "        \n",
    "#         disc_loss = d_real_error - k*d_fake_error\n",
    "    \n",
    "#     gradients_of_discriminator = disc_loosd_tape.gradient(disc_loss, discriminator.trainable_variables)\n",
    "#     gradients_of_generator = gen_loosg_tape.gradient(disc_loss, generator.trainable_variables)\n",
    "    \n",
    "#     discriminator_optimizer.apply_gradients(zip(gradients_of_discriminator, discriminator.trainable_variables))\n",
    "#     generator_optimizer.apply_gradients(zip(gradients_of_generator, generator.trainable_variables))\n",
    "    \n",
    "#     with tf.GradientTape() as gen_tape:\n",
    "#         generated_image = generator(zG, training=True)\n",
    "        \n",
    "#         g_output = discriminator(generated_image, training=True)\n",
    "        \n",
    "#         g_loss = discriminator_loss(generated_image, g_output)\n",
    "\n",
    "#     gradients_of_generator = gen_tape.gradient(g_loss, generator.trainable_variables)\n",
    "#     generator_optimizer.apply_gradients(zip(gradients_of_generator, generator.trainable_variables))\n",
    "    \n",
    "    \n",
    "#     k.assign(tf.clip_by_value(k + lambda_*(gamma*d_real_error - g_loss), 0, 1))\n",
    "    \n",
    "#     return d_real_error + tf.abs(gamma*d_real_error - g_loss)"
   ]
  },
  {
   "cell_type": "code",
   "execution_count": 18,
   "metadata": {},
   "outputs": [],
   "source": [
    "def generate_and_save_images(model, epoch, test_input):\n",
    "    predictions = model(test_input, training=False)\n",
    "    \n",
    "    fig = plt.figure(figsize=(4,4))\n",
    "    \n",
    "    for i in range(predictions.shape[0]):\n",
    "        plt.subplot(4, 4, i+1)\n",
    "        plt.imshow(predictions[i, :, :, 0] * 127.5, cmap='gray')\n",
    "        plt.axis('off')\n",
    "    if not os.path.exists('BEGAN_image'):\n",
    "        os.mkdir('BEGAN_image')\n",
    "    plt.savefig('./BEGAN_image/image_at_epoch_{:04d}.png'.format(epoch))\n",
    "    plt.show()"
   ]
  },
  {
   "cell_type": "code",
   "execution_count": 19,
   "metadata": {},
   "outputs": [
    {
     "data": {
      "text/plain": [
       "<tf.Tensor: id=993, shape=(), dtype=float32, numpy=13.5>"
      ]
     },
     "execution_count": 19,
     "metadata": {},
     "output_type": "execute_result"
    }
   ],
   "source": [
    "x = tf.Variable([1,2,3], dtype=tf.float32)\n",
    "y = tf.Variable([4,5,6], dtype=tf.float32)\n",
    "\n",
    "tf.nn.l2_loss(y-x)"
   ]
  },
  {
   "cell_type": "code",
   "execution_count": 20,
   "metadata": {},
   "outputs": [],
   "source": [
    "def train(dataset, start, epochs):\n",
    "    for epoch in range(start, epochs):\n",
    "        convergence_metric = 0\n",
    "        for image_batch in dataset:\n",
    "            convergence_metric += train_step(image_batch)\n",
    "        # GIF를 위한 이미지를 바로 생성합니다.\n",
    "        display.clear_output(wait=True)\n",
    "        generate_and_save_images(generator,\n",
    "                                epoch + 1,\n",
    "                                seed)\n",
    "        # 15 에포크가 지날 때마다 모델을 저장합니다.\n",
    "        if (epoch + 1) % 15 == 0:\n",
    "            if not os.path.exists('BEGAN_model'):\n",
    "                os.mkdir('BEGAN_model')\n",
    "            generator.save('./BEGAN_model/generator_{:04d}.h5'.format(epoch))\n",
    "            discriminator.save('./BEGAN_model/discriminator_{:04d}.h5'.format(epoch))\n",
    "        print('Time for epoch {} is {} sec'.format(epoch + 1, time.time()-start))\n",
    "        print('M_global : {}'.format(convergence_metric / BATCH_SIZE))\n",
    "    # 마지막 에포크가 끝난 후 생성합니다.\n",
    "    display.clear_output(wait=True)\n",
    "    generate_and_save_images(generator, epochs, seed)"
   ]
  },
  {
   "cell_type": "code",
   "execution_count": 27,
   "metadata": {},
   "outputs": [
    {
     "data": {
      "image/png": "[encoded data removed]",
      "text/plain": [
       "<Figure size 288x288 with 16 Axes>"
      ]
     },
     "metadata": {
      "needs_background": "light"
     },
     "output_type": "display_data"
    }
   ],
   "source": [
    "train(train_dataset, 0, EPOCHS)"
   ]
  },
  {
   "cell_type": "markdown",
   "metadata": {},
   "source": [
    "### GIF 생성"
   ]
  },
  {
   "cell_type": "code",
   "execution_count": 30,
   "metadata": {},
   "outputs": [],
   "source": [
    "def display_image(epoch_no):\n",
    "    return PIL.Image.open('./BEGAN_image/image_at_epoch_{:04d}.png'.format(epoch_no))"
   ]
  },
  {
   "cell_type": "code",
   "execution_count": 31,
   "metadata": {},
   "outputs": [
    {
     "data": {
      "image/png": "[encoded data removed]",
      "text/plain": [
       "<PIL.PngImagePlugin.PngImageFile image mode=RGBA size=288x288 at 0x1AEEF1D1A48>"
      ]
     },
     "execution_count": 31,
     "metadata": {},
     "output_type": "execute_result"
    }
   ],
   "source": [
    "display_image(EPOCHS)"
   ]
  },
  {
   "cell_type": "markdown",
   "metadata": {},
   "source": [
    "imageio로 훈련 과정마다 저장된 이미지를 사용해 GIF 에니메이션을 만듭니다."
   ]
  },
  {
   "cell_type": "code",
   "execution_count": 34,
   "metadata": {},
   "outputs": [
    {
     "data": {
      "text/plain": [
       "['BEGAN_image\\\\image_at_epoch_0001.png',\n",
       " 'BEGAN_image\\\\image_at_epoch_0002.png',\n",
       " 'BEGAN_image\\\\image_at_epoch_0003.png',\n",
       " 'BEGAN_image\\\\image_at_epoch_0004.png',\n",
       " 'BEGAN_image\\\\image_at_epoch_0005.png',\n",
       " 'BEGAN_image\\\\image_at_epoch_0006.png',\n",
       " 'BEGAN_image\\\\image_at_epoch_0007.png',\n",
       " 'BEGAN_image\\\\image_at_epoch_0008.png',\n",
       " 'BEGAN_image\\\\image_at_epoch_0009.png',\n",
       " 'BEGAN_image\\\\image_at_epoch_0010.png',\n",
       " 'BEGAN_image\\\\image_at_epoch_0011.png',\n",
       " 'BEGAN_image\\\\image_at_epoch_0012.png',\n",
       " 'BEGAN_image\\\\image_at_epoch_0013.png',\n",
       " 'BEGAN_image\\\\image_at_epoch_0014.png',\n",
       " 'BEGAN_image\\\\image_at_epoch_0015.png',\n",
       " 'BEGAN_image\\\\image_at_epoch_0016.png',\n",
       " 'BEGAN_image\\\\image_at_epoch_0017.png',\n",
       " 'BEGAN_image\\\\image_at_epoch_0018.png',\n",
       " 'BEGAN_image\\\\image_at_epoch_0019.png',\n",
       " 'BEGAN_image\\\\image_at_epoch_0020.png',\n",
       " 'BEGAN_image\\\\image_at_epoch_0021.png',\n",
       " 'BEGAN_image\\\\image_at_epoch_0022.png',\n",
       " 'BEGAN_image\\\\image_at_epoch_0023.png',\n",
       " 'BEGAN_image\\\\image_at_epoch_0024.png',\n",
       " 'BEGAN_image\\\\image_at_epoch_0025.png',\n",
       " 'BEGAN_image\\\\image_at_epoch_0026.png',\n",
       " 'BEGAN_image\\\\image_at_epoch_0027.png',\n",
       " 'BEGAN_image\\\\image_at_epoch_0028.png',\n",
       " 'BEGAN_image\\\\image_at_epoch_0029.png',\n",
       " 'BEGAN_image\\\\image_at_epoch_0030.png',\n",
       " 'BEGAN_image\\\\image_at_epoch_0031.png',\n",
       " 'BEGAN_image\\\\image_at_epoch_0032.png',\n",
       " 'BEGAN_image\\\\image_at_epoch_0033.png',\n",
       " 'BEGAN_image\\\\image_at_epoch_0034.png',\n",
       " 'BEGAN_image\\\\image_at_epoch_0035.png',\n",
       " 'BEGAN_image\\\\image_at_epoch_0036.png',\n",
       " 'BEGAN_image\\\\image_at_epoch_0037.png',\n",
       " 'BEGAN_image\\\\image_at_epoch_0038.png',\n",
       " 'BEGAN_image\\\\image_at_epoch_0039.png',\n",
       " 'BEGAN_image\\\\image_at_epoch_0040.png',\n",
       " 'BEGAN_image\\\\image_at_epoch_0041.png',\n",
       " 'BEGAN_image\\\\image_at_epoch_0042.png',\n",
       " 'BEGAN_image\\\\image_at_epoch_0043.png',\n",
       " 'BEGAN_image\\\\image_at_epoch_0044.png',\n",
       " 'BEGAN_image\\\\image_at_epoch_0045.png',\n",
       " 'BEGAN_image\\\\image_at_epoch_0046.png',\n",
       " 'BEGAN_image\\\\image_at_epoch_0047.png',\n",
       " 'BEGAN_image\\\\image_at_epoch_0048.png',\n",
       " 'BEGAN_image\\\\image_at_epoch_0049.png',\n",
       " 'BEGAN_image\\\\image_at_epoch_0050.png']"
      ]
     },
     "execution_count": 34,
     "metadata": {},
     "output_type": "execute_result"
    }
   ],
   "source": [
    "glob.glob('BEGAN_image/image*.png')"
   ]
  },
  {
   "cell_type": "code",
   "execution_count": 38,
   "metadata": {},
   "outputs": [],
   "source": [
    "anim_file = 'mnist_began.gif'\n",
    "\n",
    "with imageio.get_writer('BEGAN_image'+anim_file, mode='I') as writer:\n",
    "    filenames = glob.glob('BEGAN_image/image*.png')\n",
    "    filenames = sorted(filenames)\n",
    "    last = -1\n",
    "    for i, filename in enumerate(filenames):\n",
    "        frame = 2*(i**0.5)\n",
    "        if round(frame) > round(last):\n",
    "            last = frame\n",
    "        else:\n",
    "            continue\n",
    "        image = imageio.imread(filename)\n",
    "        writer.append_data(image)\n",
    "    image = imageio.imread(filename)\n",
    "    writer.append_data(image)"
   ]
  }
 ],
 "metadata": {
  "kernelspec": {
   "display_name": "Python 3",
   "language": "python",
   "name": "python3"
  },
  "language_info": {
   "codemirror_mode": {
    "name": "ipython",
    "version": 3
   },
   "file_extension": ".py",
   "mimetype": "text/x-python",
   "name": "python",
   "nbconvert_exporter": "python",
   "pygments_lexer": "ipython3",
   "version": "3.7.4"
  }
 },
 "nbformat": 4,
 "nbformat_minor": 2
}
